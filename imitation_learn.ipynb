{
 "cells": [
  {
   "cell_type": "code",
   "execution_count": 1,
   "metadata": {},
   "outputs": [
    {
     "name": "stdout",
     "output_type": "stream",
     "text": [
      "Constants(cooler_btu=2000, heater_btu=2500, ext_wall_thick=0.15, int_wall_thick=0.12, ext_wall_therm_cond=0.04, int_wall_therm_cond=0.18, ext_roof_thick=0.12, int_roof_thick=0.12, ext_roof_therm_cond=0.15, int_roof_therm_cond=0.62, outside_convection=22, inside_convection=6, settings=[-1, 0, 1], air_density=1.293, air_heat_capacity=718, ext_wall_ext_thick=0.01, ext_wall_ext_heat_capacity=1000, ext_wall_ext_density=1300, ext_wall_int_thick=0.01, ext_wall_int_heat_capacity=837, ext_wall_int_density=801, ext_roof_ext_thick=0.045, ext_roof_ext_heat_capacity=1400, ext_roof_ext_density=860, ext_roof_int_thick=0.015, ext_roof_int_heat_capacity=1860, ext_roof_int_density=630, int_wall_outside_thick=0.01, int_wall_outside_heat_capacity=1000, int_wall_outside_density=800, damper_leak=0.05, epsilon=0.8)\n",
      "Constants(cooler_btu=2000, heater_btu=2500, ext_wall_thick=0.15, int_wall_thick=0.12, ext_wall_therm_cond=0.04, int_wall_therm_cond=0.18, ext_roof_thick=0.12, int_roof_thick=0.12, ext_roof_therm_cond=0.15, int_roof_therm_cond=0.62, outside_convection=22, inside_convection=6, settings=[-1, 0, 1], air_density=1.293, air_heat_capacity=718, ext_wall_ext_thick=0.01, ext_wall_ext_heat_capacity=1000, ext_wall_ext_density=1300, ext_wall_int_thick=0.01, ext_wall_int_heat_capacity=837, ext_wall_int_density=801, ext_roof_ext_thick=0.045, ext_roof_ext_heat_capacity=1400, ext_roof_ext_density=860, ext_roof_int_thick=0.015, ext_roof_int_heat_capacity=1860, ext_roof_int_density=630, int_wall_outside_thick=0.01, int_wall_outside_heat_capacity=1000, int_wall_outside_density=800, damper_leak=0.05, epsilon=0.8)\n",
      "Constants(cooler_btu=2000, heater_btu=2500, ext_wall_thick=0.15, int_wall_thick=0.12, ext_wall_therm_cond=0.04, int_wall_therm_cond=0.18, ext_roof_thick=0.12, int_roof_thick=0.12, ext_roof_therm_cond=0.15, int_roof_therm_cond=0.62, outside_convection=22, inside_convection=6, settings=[-1, 0, 1], air_density=1.293, air_heat_capacity=718, ext_wall_ext_thick=0.01, ext_wall_ext_heat_capacity=1000, ext_wall_ext_density=1300, ext_wall_int_thick=0.01, ext_wall_int_heat_capacity=837, ext_wall_int_density=801, ext_roof_ext_thick=0.045, ext_roof_ext_heat_capacity=1400, ext_roof_ext_density=860, ext_roof_int_thick=0.015, ext_roof_int_heat_capacity=1860, ext_roof_int_density=630, int_wall_outside_thick=0.01, int_wall_outside_heat_capacity=1000, int_wall_outside_density=800, damper_leak=0.05, epsilon=0.8)\n",
      "Constants(cooler_btu=2000, heater_btu=2500, ext_wall_thick=0.15, int_wall_thick=0.12, ext_wall_therm_cond=0.04, int_wall_therm_cond=0.18, ext_roof_thick=0.12, int_roof_thick=0.12, ext_roof_therm_cond=0.15, int_roof_therm_cond=0.62, outside_convection=22, inside_convection=6, settings=[-1, 0, 1], air_density=1.293, air_heat_capacity=718, ext_wall_ext_thick=0.01, ext_wall_ext_heat_capacity=1000, ext_wall_ext_density=1300, ext_wall_int_thick=0.01, ext_wall_int_heat_capacity=837, ext_wall_int_density=801, ext_roof_ext_thick=0.045, ext_roof_ext_heat_capacity=1400, ext_roof_ext_density=860, ext_roof_int_thick=0.015, ext_roof_int_heat_capacity=1860, ext_roof_int_density=630, int_wall_outside_thick=0.01, int_wall_outside_heat_capacity=1000, int_wall_outside_density=800, damper_leak=0.05, epsilon=0.8)\n"
     ]
    }
   ],
   "source": [
    "import gymnasium as gym\n",
    "import gym_environment\n",
    "\n",
    "import imitation\n",
    "\n",
    "import imitation.algorithms\n",
    "\n",
    "import imitation.data\n",
    "import imitation.data.rollout\n",
    "import imitation.data.wrappers\n",
    "\n",
    "import imitation.policies\n",
    "import imitation.policies.base\n",
    "\n",
    "import imitation.util.util\n",
    "\n",
    "import stable_baselines3\n",
    "import stable_baselines3.common\n",
    "import stable_baselines3.common.evaluation\n",
    "\n",
    "import sys\n",
    "import abc\n",
    "import numpy as np\n",
    "from typing import Union, Dict\n",
    "\n",
    "gym.register(\n",
    "\tid=\"HVAC-v0\",\n",
    "\tentry_point=gym_environment.Environment,\n",
    "\tmax_episode_steps=1440,\n",
    ")\n",
    "\n",
    "env = gym.make(\"HVAC-v0\")\n",
    "venv = imitation.util.util.make_vec_env(\n",
    "\t\"HVAC-v0\",\n",
    "\trng=np.random.default_rng(),\n",
    "\tn_envs=4,\n",
    "\tpost_wrappers=[lambda env, _: imitation.data.wrappers.RolloutInfoWrapper(env)],\n",
    ")\n"
   ]
  },
  {
   "cell_type": "code",
   "execution_count": 2,
   "metadata": {},
   "outputs": [],
   "source": [
    "class DumbPolicy(imitation.policies.base.NonTrainablePolicy):\n",
    "\tdef _choose_action(self, obs: Union[np.ndarray, Dict[str, np.ndarray]],) -> int:\n",
    "\t\tepsilon = 0.9\n",
    "\t\t\n",
    "\t\troom0_temp, room0_setp, room1_temp, room1_setp, outside_temp, prev_setting, _ = obs\n",
    "\t\tprev_ac_status, prev_dampers = env.actions[int(prev_setting)]\n",
    "\n",
    "\t\tif room0_temp > room0_setp + epsilon and room1_temp > room1_setp:\n",
    "\t\t\tac_status, dampers = (-1, [[False, False]])\n",
    "\t\telif room0_temp < room0_setp - epsilon and room1_temp < room1_setp:\n",
    "\t\t\tac_status, dampers = (1, [[False, False]])\n",
    "\t\t\n",
    "\t\telif room0_temp > room0_setp and room1_temp > room1_setp + epsilon:\n",
    "\t\t\tac_status, dampers = (-1, [[False, False]])\n",
    "\t\telif room0_temp < room0_setp and room1_temp < room1_setp - epsilon:\n",
    "\t\t\tac_status, dampers = (1, [[False, False]])\n",
    "\n",
    "\t\telif room0_temp > room0_setp + epsilon and abs(room1_temp - room1_setp) < epsilon:\n",
    "\t\t\tac_status, dampers = (-1, [[False, True]])\n",
    "\t\telif room1_temp > room1_setp + epsilon and abs(room0_temp - room0_setp) < epsilon:\n",
    "\t\t\tac_status, dampers = (-1, [[True, False]])\n",
    "\t\t\n",
    "\t\telif room0_temp < room0_setp - epsilon and abs(room1_temp - room1_setp) < epsilon:\n",
    "\t\t\tac_status, dampers = (1, [[False, True]])\n",
    "\t\telif room1_temp < room1_setp - epsilon and abs(room0_temp - room0_setp) < epsilon:\n",
    "\t\t\tac_status, dampers = (1, [[True, False]])\n",
    "\t\t\n",
    "\t\telif room0_temp > room0_setp + epsilon and room1_temp < room1_setp - epsilon:\n",
    "\t\t\terror0, error1 = abs(room0_temp - room0_setp), abs(room1_temp - room1_setp)\n",
    "\t\t\tif error0 > error1:\n",
    "\t\t\t\tac_status, dampers = (-1, [[False, True]])\n",
    "\t\t\telse:\n",
    "\t\t\t\tac_status, dampers = (1, [[True, False]])\n",
    "\t\telif room0_temp < room0_setp - epsilon and room1_temp > room1_setp + epsilon:\n",
    "\t\t\terror0, error1 = abs(room0_temp - room0_setp), abs(room1_temp - room1_setp)\n",
    "\t\t\tif error0 > error1:\n",
    "\t\t\t\tac_status, dampers = (1, [[False, True]])\n",
    "\t\t\telse:\n",
    "\t\t\t\tac_status, dampers = (-1, [[True, False]])\n",
    "\t\telse:\n",
    "\t\t\tac_status, dampers = (prev_ac_status, prev_dampers)\n",
    "\t\t\n",
    "\t\tif room0_temp > outside_temp and room1_temp > outside_temp and ac_status < 0:\n",
    "\t\t\tac_status = 0\n",
    "\t\t\tdampers = prev_dampers\n",
    "\t\tif room0_temp < outside_temp and room1_temp < outside_temp and ac_status > 0:\n",
    "\t\t\tac_status = 0\n",
    "\t\t\tdampers = prev_dampers\n",
    "\t\t\n",
    "\t\t# print(room0_temp, room0_setp, room1_temp, room1_setp, outside_temp, ac_status, dampers)\n",
    "\t\treturn env.actions.index((ac_status, dampers))"
   ]
  },
  {
   "cell_type": "code",
   "execution_count": 3,
   "metadata": {},
   "outputs": [
    {
     "name": "stdout",
     "output_type": "stream",
     "text": [
      "Constants(cooler_btu=2000, heater_btu=2500, ext_wall_thick=0.15, int_wall_thick=0.12, ext_wall_therm_cond=0.04, int_wall_therm_cond=0.18, ext_roof_thick=0.12, int_roof_thick=0.12, ext_roof_therm_cond=0.15, int_roof_therm_cond=0.62, outside_convection=22, inside_convection=6, settings=[-1, 0, 1], air_density=1.293, air_heat_capacity=718, ext_wall_ext_thick=0.01, ext_wall_ext_heat_capacity=1000, ext_wall_ext_density=1300, ext_wall_int_thick=0.01, ext_wall_int_heat_capacity=837, ext_wall_int_density=801, ext_roof_ext_thick=0.045, ext_roof_ext_heat_capacity=1400, ext_roof_ext_density=860, ext_roof_int_thick=0.015, ext_roof_int_heat_capacity=1860, ext_roof_int_density=630, int_wall_outside_thick=0.01, int_wall_outside_heat_capacity=1000, int_wall_outside_density=800, damper_leak=0.05, epsilon=0.8)\n",
      "Constants(cooler_btu=2000, heater_btu=2500, ext_wall_thick=0.15, int_wall_thick=0.12, ext_wall_therm_cond=0.04, int_wall_therm_cond=0.18, ext_roof_thick=0.12, int_roof_thick=0.12, ext_roof_therm_cond=0.15, int_roof_therm_cond=0.62, outside_convection=22, inside_convection=6, settings=[-1, 0, 1], air_density=1.293, air_heat_capacity=718, ext_wall_ext_thick=0.01, ext_wall_ext_heat_capacity=1000, ext_wall_ext_density=1300, ext_wall_int_thick=0.01, ext_wall_int_heat_capacity=837, ext_wall_int_density=801, ext_roof_ext_thick=0.045, ext_roof_ext_heat_capacity=1400, ext_roof_ext_density=860, ext_roof_int_thick=0.015, ext_roof_int_heat_capacity=1860, ext_roof_int_density=630, int_wall_outside_thick=0.01, int_wall_outside_heat_capacity=1000, int_wall_outside_density=800, damper_leak=0.05, epsilon=0.8)\n",
      "Constants(cooler_btu=2000, heater_btu=2500, ext_wall_thick=0.15, int_wall_thick=0.12, ext_wall_therm_cond=0.04, int_wall_therm_cond=0.18, ext_roof_thick=0.12, int_roof_thick=0.12, ext_roof_therm_cond=0.15, int_roof_therm_cond=0.62, outside_convection=22, inside_convection=6, settings=[-1, 0, 1], air_density=1.293, air_heat_capacity=718, ext_wall_ext_thick=0.01, ext_wall_ext_heat_capacity=1000, ext_wall_ext_density=1300, ext_wall_int_thick=0.01, ext_wall_int_heat_capacity=837, ext_wall_int_density=801, ext_roof_ext_thick=0.045, ext_roof_ext_heat_capacity=1400, ext_roof_ext_density=860, ext_roof_int_thick=0.015, ext_roof_int_heat_capacity=1860, ext_roof_int_density=630, int_wall_outside_thick=0.01, int_wall_outside_heat_capacity=1000, int_wall_outside_density=800, damper_leak=0.05, epsilon=0.8)\n",
      "Constants(cooler_btu=2000, heater_btu=2500, ext_wall_thick=0.15, int_wall_thick=0.12, ext_wall_therm_cond=0.04, int_wall_therm_cond=0.18, ext_roof_thick=0.12, int_roof_thick=0.12, ext_roof_therm_cond=0.15, int_roof_therm_cond=0.62, outside_convection=22, inside_convection=6, settings=[-1, 0, 1], air_density=1.293, air_heat_capacity=718, ext_wall_ext_thick=0.01, ext_wall_ext_heat_capacity=1000, ext_wall_ext_density=1300, ext_wall_int_thick=0.01, ext_wall_int_heat_capacity=837, ext_wall_int_density=801, ext_roof_ext_thick=0.045, ext_roof_ext_heat_capacity=1400, ext_roof_ext_density=860, ext_roof_int_thick=0.015, ext_roof_int_heat_capacity=1860, ext_roof_int_density=630, int_wall_outside_thick=0.01, int_wall_outside_heat_capacity=1000, int_wall_outside_density=800, damper_leak=0.05, epsilon=0.8)\n"
     ]
    },
    {
     "name": "stderr",
     "output_type": "stream",
     "text": [
      "/home/jayden/Desktop/Programs/aithermostat-old/venv/lib/python3.8/site-packages/gymnasium/core.py:311: UserWarning: \u001b[33mWARN: env.actions to get variables from other wrappers is deprecated and will be removed in v1.0, to get this variable you can do `env.unwrapped.actions` for environment variables or `env.get_wrapper_attr('actions')` that will search the reminding wrappers.\u001b[0m\n",
      "  logger.warn(\n"
     ]
    },
    {
     "name": "stdout",
     "output_type": "stream",
     "text": [
      "Constants(cooler_btu=2000, heater_btu=2500, ext_wall_thick=0.15, int_wall_thick=0.12, ext_wall_therm_cond=0.04, int_wall_therm_cond=0.18, ext_roof_thick=0.12, int_roof_thick=0.12, ext_roof_therm_cond=0.15, int_roof_therm_cond=0.62, outside_convection=22, inside_convection=6, settings=[-1, 0, 1], air_density=1.293, air_heat_capacity=718, ext_wall_ext_thick=0.01, ext_wall_ext_heat_capacity=1000, ext_wall_ext_density=1300, ext_wall_int_thick=0.01, ext_wall_int_heat_capacity=837, ext_wall_int_density=801, ext_roof_ext_thick=0.045, ext_roof_ext_heat_capacity=1400, ext_roof_ext_density=860, ext_roof_int_thick=0.015, ext_roof_int_heat_capacity=1860, ext_roof_int_density=630, int_wall_outside_thick=0.01, int_wall_outside_heat_capacity=1000, int_wall_outside_density=800, damper_leak=0.05, epsilon=0.8)\n",
      "Constants(cooler_btu=2000, heater_btu=2500, ext_wall_thick=0.15, int_wall_thick=0.12, ext_wall_therm_cond=0.04, int_wall_therm_cond=0.18, ext_roof_thick=0.12, int_roof_thick=0.12, ext_roof_therm_cond=0.15, int_roof_therm_cond=0.62, outside_convection=22, inside_convection=6, settings=[-1, 0, 1], air_density=1.293, air_heat_capacity=718, ext_wall_ext_thick=0.01, ext_wall_ext_heat_capacity=1000, ext_wall_ext_density=1300, ext_wall_int_thick=0.01, ext_wall_int_heat_capacity=837, ext_wall_int_density=801, ext_roof_ext_thick=0.045, ext_roof_ext_heat_capacity=1400, ext_roof_ext_density=860, ext_roof_int_thick=0.015, ext_roof_int_heat_capacity=1860, ext_roof_int_density=630, int_wall_outside_thick=0.01, int_wall_outside_heat_capacity=1000, int_wall_outside_density=800, damper_leak=0.05, epsilon=0.8)\n",
      "Constants(cooler_btu=2000, heater_btu=2500, ext_wall_thick=0.15, int_wall_thick=0.12, ext_wall_therm_cond=0.04, int_wall_therm_cond=0.18, ext_roof_thick=0.12, int_roof_thick=0.12, ext_roof_therm_cond=0.15, int_roof_therm_cond=0.62, outside_convection=22, inside_convection=6, settings=[-1, 0, 1], air_density=1.293, air_heat_capacity=718, ext_wall_ext_thick=0.01, ext_wall_ext_heat_capacity=1000, ext_wall_ext_density=1300, ext_wall_int_thick=0.01, ext_wall_int_heat_capacity=837, ext_wall_int_density=801, ext_roof_ext_thick=0.045, ext_roof_ext_heat_capacity=1400, ext_roof_ext_density=860, ext_roof_int_thick=0.015, ext_roof_int_heat_capacity=1860, ext_roof_int_density=630, int_wall_outside_thick=0.01, int_wall_outside_heat_capacity=1000, int_wall_outside_density=800, damper_leak=0.05, epsilon=0.8)\n",
      "Constants(cooler_btu=2000, heater_btu=2500, ext_wall_thick=0.15, int_wall_thick=0.12, ext_wall_therm_cond=0.04, int_wall_therm_cond=0.18, ext_roof_thick=0.12, int_roof_thick=0.12, ext_roof_therm_cond=0.15, int_roof_therm_cond=0.62, outside_convection=22, inside_convection=6, settings=[-1, 0, 1], air_density=1.293, air_heat_capacity=718, ext_wall_ext_thick=0.01, ext_wall_ext_heat_capacity=1000, ext_wall_ext_density=1300, ext_wall_int_thick=0.01, ext_wall_int_heat_capacity=837, ext_wall_int_density=801, ext_roof_ext_thick=0.045, ext_roof_ext_heat_capacity=1400, ext_roof_ext_density=860, ext_roof_int_thick=0.015, ext_roof_int_heat_capacity=1860, ext_roof_int_density=630, int_wall_outside_thick=0.01, int_wall_outside_heat_capacity=1000, int_wall_outside_density=800, damper_leak=0.05, epsilon=0.8)\n",
      "Constants(cooler_btu=2000, heater_btu=2500, ext_wall_thick=0.15, int_wall_thick=0.12, ext_wall_therm_cond=0.04, int_wall_therm_cond=0.18, ext_roof_thick=0.12, int_roof_thick=0.12, ext_roof_therm_cond=0.15, int_roof_therm_cond=0.62, outside_convection=22, inside_convection=6, settings=[-1, 0, 1], air_density=1.293, air_heat_capacity=718, ext_wall_ext_thick=0.01, ext_wall_ext_heat_capacity=1000, ext_wall_ext_density=1300, ext_wall_int_thick=0.01, ext_wall_int_heat_capacity=837, ext_wall_int_density=801, ext_roof_ext_thick=0.045, ext_roof_ext_heat_capacity=1400, ext_roof_ext_density=860, ext_roof_int_thick=0.015, ext_roof_int_heat_capacity=1860, ext_roof_int_density=630, int_wall_outside_thick=0.01, int_wall_outside_heat_capacity=1000, int_wall_outside_density=800, damper_leak=0.05, epsilon=0.8)\n",
      "Constants(cooler_btu=2000, heater_btu=2500, ext_wall_thick=0.15, int_wall_thick=0.12, ext_wall_therm_cond=0.04, int_wall_therm_cond=0.18, ext_roof_thick=0.12, int_roof_thick=0.12, ext_roof_therm_cond=0.15, int_roof_therm_cond=0.62, outside_convection=22, inside_convection=6, settings=[-1, 0, 1], air_density=1.293, air_heat_capacity=718, ext_wall_ext_thick=0.01, ext_wall_ext_heat_capacity=1000, ext_wall_ext_density=1300, ext_wall_int_thick=0.01, ext_wall_int_heat_capacity=837, ext_wall_int_density=801, ext_roof_ext_thick=0.045, ext_roof_ext_heat_capacity=1400, ext_roof_ext_density=860, ext_roof_int_thick=0.015, ext_roof_int_heat_capacity=1860, ext_roof_int_density=630, int_wall_outside_thick=0.01, int_wall_outside_heat_capacity=1000, int_wall_outside_density=800, damper_leak=0.05, epsilon=0.8)\n",
      "Constants(cooler_btu=2000, heater_btu=2500, ext_wall_thick=0.15, int_wall_thick=0.12, ext_wall_therm_cond=0.04, int_wall_therm_cond=0.18, ext_roof_thick=0.12, int_roof_thick=0.12, ext_roof_therm_cond=0.15, int_roof_therm_cond=0.62, outside_convection=22, inside_convection=6, settings=[-1, 0, 1], air_density=1.293, air_heat_capacity=718, ext_wall_ext_thick=0.01, ext_wall_ext_heat_capacity=1000, ext_wall_ext_density=1300, ext_wall_int_thick=0.01, ext_wall_int_heat_capacity=837, ext_wall_int_density=801, ext_roof_ext_thick=0.045, ext_roof_ext_heat_capacity=1400, ext_roof_ext_density=860, ext_roof_int_thick=0.015, ext_roof_int_heat_capacity=1860, ext_roof_int_density=630, int_wall_outside_thick=0.01, int_wall_outside_heat_capacity=1000, int_wall_outside_density=800, damper_leak=0.05, epsilon=0.8)\n",
      "Constants(cooler_btu=2000, heater_btu=2500, ext_wall_thick=0.15, int_wall_thick=0.12, ext_wall_therm_cond=0.04, int_wall_therm_cond=0.18, ext_roof_thick=0.12, int_roof_thick=0.12, ext_roof_therm_cond=0.15, int_roof_therm_cond=0.62, outside_convection=22, inside_convection=6, settings=[-1, 0, 1], air_density=1.293, air_heat_capacity=718, ext_wall_ext_thick=0.01, ext_wall_ext_heat_capacity=1000, ext_wall_ext_density=1300, ext_wall_int_thick=0.01, ext_wall_int_heat_capacity=837, ext_wall_int_density=801, ext_roof_ext_thick=0.045, ext_roof_ext_heat_capacity=1400, ext_roof_ext_density=860, ext_roof_int_thick=0.015, ext_roof_int_heat_capacity=1860, ext_roof_int_density=630, int_wall_outside_thick=0.01, int_wall_outside_heat_capacity=1000, int_wall_outside_density=800, damper_leak=0.05, epsilon=0.8)\n",
      "Constants(cooler_btu=2000, heater_btu=2500, ext_wall_thick=0.15, int_wall_thick=0.12, ext_wall_therm_cond=0.04, int_wall_therm_cond=0.18, ext_roof_thick=0.12, int_roof_thick=0.12, ext_roof_therm_cond=0.15, int_roof_therm_cond=0.62, outside_convection=22, inside_convection=6, settings=[-1, 0, 1], air_density=1.293, air_heat_capacity=718, ext_wall_ext_thick=0.01, ext_wall_ext_heat_capacity=1000, ext_wall_ext_density=1300, ext_wall_int_thick=0.01, ext_wall_int_heat_capacity=837, ext_wall_int_density=801, ext_roof_ext_thick=0.045, ext_roof_ext_heat_capacity=1400, ext_roof_ext_density=860, ext_roof_int_thick=0.015, ext_roof_int_heat_capacity=1860, ext_roof_int_density=630, int_wall_outside_thick=0.01, int_wall_outside_heat_capacity=1000, int_wall_outside_density=800, damper_leak=0.05, epsilon=0.8)\n",
      "Constants(cooler_btu=2000, heater_btu=2500, ext_wall_thick=0.15, int_wall_thick=0.12, ext_wall_therm_cond=0.04, int_wall_therm_cond=0.18, ext_roof_thick=0.12, int_roof_thick=0.12, ext_roof_therm_cond=0.15, int_roof_therm_cond=0.62, outside_convection=22, inside_convection=6, settings=[-1, 0, 1], air_density=1.293, air_heat_capacity=718, ext_wall_ext_thick=0.01, ext_wall_ext_heat_capacity=1000, ext_wall_ext_density=1300, ext_wall_int_thick=0.01, ext_wall_int_heat_capacity=837, ext_wall_int_density=801, ext_roof_ext_thick=0.045, ext_roof_ext_heat_capacity=1400, ext_roof_ext_density=860, ext_roof_int_thick=0.015, ext_roof_int_heat_capacity=1860, ext_roof_int_density=630, int_wall_outside_thick=0.01, int_wall_outside_heat_capacity=1000, int_wall_outside_density=800, damper_leak=0.05, epsilon=0.8)\n",
      "Constants(cooler_btu=2000, heater_btu=2500, ext_wall_thick=0.15, int_wall_thick=0.12, ext_wall_therm_cond=0.04, int_wall_therm_cond=0.18, ext_roof_thick=0.12, int_roof_thick=0.12, ext_roof_therm_cond=0.15, int_roof_therm_cond=0.62, outside_convection=22, inside_convection=6, settings=[-1, 0, 1], air_density=1.293, air_heat_capacity=718, ext_wall_ext_thick=0.01, ext_wall_ext_heat_capacity=1000, ext_wall_ext_density=1300, ext_wall_int_thick=0.01, ext_wall_int_heat_capacity=837, ext_wall_int_density=801, ext_roof_ext_thick=0.045, ext_roof_ext_heat_capacity=1400, ext_roof_ext_density=860, ext_roof_int_thick=0.015, ext_roof_int_heat_capacity=1860, ext_roof_int_density=630, int_wall_outside_thick=0.01, int_wall_outside_heat_capacity=1000, int_wall_outside_density=800, damper_leak=0.05, epsilon=0.8)\n",
      "Constants(cooler_btu=2000, heater_btu=2500, ext_wall_thick=0.15, int_wall_thick=0.12, ext_wall_therm_cond=0.04, int_wall_therm_cond=0.18, ext_roof_thick=0.12, int_roof_thick=0.12, ext_roof_therm_cond=0.15, int_roof_therm_cond=0.62, outside_convection=22, inside_convection=6, settings=[-1, 0, 1], air_density=1.293, air_heat_capacity=718, ext_wall_ext_thick=0.01, ext_wall_ext_heat_capacity=1000, ext_wall_ext_density=1300, ext_wall_int_thick=0.01, ext_wall_int_heat_capacity=837, ext_wall_int_density=801, ext_roof_ext_thick=0.045, ext_roof_ext_heat_capacity=1400, ext_roof_ext_density=860, ext_roof_int_thick=0.015, ext_roof_int_heat_capacity=1860, ext_roof_int_density=630, int_wall_outside_thick=0.01, int_wall_outside_heat_capacity=1000, int_wall_outside_density=800, damper_leak=0.05, epsilon=0.8)\n",
      "Constants(cooler_btu=2000, heater_btu=2500, ext_wall_thick=0.15, int_wall_thick=0.12, ext_wall_therm_cond=0.04, int_wall_therm_cond=0.18, ext_roof_thick=0.12, int_roof_thick=0.12, ext_roof_therm_cond=0.15, int_roof_therm_cond=0.62, outside_convection=22, inside_convection=6, settings=[-1, 0, 1], air_density=1.293, air_heat_capacity=718, ext_wall_ext_thick=0.01, ext_wall_ext_heat_capacity=1000, ext_wall_ext_density=1300, ext_wall_int_thick=0.01, ext_wall_int_heat_capacity=837, ext_wall_int_density=801, ext_roof_ext_thick=0.045, ext_roof_ext_heat_capacity=1400, ext_roof_ext_density=860, ext_roof_int_thick=0.015, ext_roof_int_heat_capacity=1860, ext_roof_int_density=630, int_wall_outside_thick=0.01, int_wall_outside_heat_capacity=1000, int_wall_outside_density=800, damper_leak=0.05, epsilon=0.8)\n",
      "Constants(cooler_btu=2000, heater_btu=2500, ext_wall_thick=0.15, int_wall_thick=0.12, ext_wall_therm_cond=0.04, int_wall_therm_cond=0.18, ext_roof_thick=0.12, int_roof_thick=0.12, ext_roof_therm_cond=0.15, int_roof_therm_cond=0.62, outside_convection=22, inside_convection=6, settings=[-1, 0, 1], air_density=1.293, air_heat_capacity=718, ext_wall_ext_thick=0.01, ext_wall_ext_heat_capacity=1000, ext_wall_ext_density=1300, ext_wall_int_thick=0.01, ext_wall_int_heat_capacity=837, ext_wall_int_density=801, ext_roof_ext_thick=0.045, ext_roof_ext_heat_capacity=1400, ext_roof_ext_density=860, ext_roof_int_thick=0.015, ext_roof_int_heat_capacity=1860, ext_roof_int_density=630, int_wall_outside_thick=0.01, int_wall_outside_heat_capacity=1000, int_wall_outside_density=800, damper_leak=0.05, epsilon=0.8)\n",
      "Constants(cooler_btu=2000, heater_btu=2500, ext_wall_thick=0.15, int_wall_thick=0.12, ext_wall_therm_cond=0.04, int_wall_therm_cond=0.18, ext_roof_thick=0.12, int_roof_thick=0.12, ext_roof_therm_cond=0.15, int_roof_therm_cond=0.62, outside_convection=22, inside_convection=6, settings=[-1, 0, 1], air_density=1.293, air_heat_capacity=718, ext_wall_ext_thick=0.01, ext_wall_ext_heat_capacity=1000, ext_wall_ext_density=1300, ext_wall_int_thick=0.01, ext_wall_int_heat_capacity=837, ext_wall_int_density=801, ext_roof_ext_thick=0.045, ext_roof_ext_heat_capacity=1400, ext_roof_ext_density=860, ext_roof_int_thick=0.015, ext_roof_int_heat_capacity=1860, ext_roof_int_density=630, int_wall_outside_thick=0.01, int_wall_outside_heat_capacity=1000, int_wall_outside_density=800, damper_leak=0.05, epsilon=0.8)\n",
      "Constants(cooler_btu=2000, heater_btu=2500, ext_wall_thick=0.15, int_wall_thick=0.12, ext_wall_therm_cond=0.04, int_wall_therm_cond=0.18, ext_roof_thick=0.12, int_roof_thick=0.12, ext_roof_therm_cond=0.15, int_roof_therm_cond=0.62, outside_convection=22, inside_convection=6, settings=[-1, 0, 1], air_density=1.293, air_heat_capacity=718, ext_wall_ext_thick=0.01, ext_wall_ext_heat_capacity=1000, ext_wall_ext_density=1300, ext_wall_int_thick=0.01, ext_wall_int_heat_capacity=837, ext_wall_int_density=801, ext_roof_ext_thick=0.045, ext_roof_ext_heat_capacity=1400, ext_roof_ext_density=860, ext_roof_int_thick=0.015, ext_roof_int_heat_capacity=1860, ext_roof_int_density=630, int_wall_outside_thick=0.01, int_wall_outside_heat_capacity=1000, int_wall_outside_density=800, damper_leak=0.05, epsilon=0.8)\n",
      "Constants(cooler_btu=2000, heater_btu=2500, ext_wall_thick=0.15, int_wall_thick=0.12, ext_wall_therm_cond=0.04, int_wall_therm_cond=0.18, ext_roof_thick=0.12, int_roof_thick=0.12, ext_roof_therm_cond=0.15, int_roof_therm_cond=0.62, outside_convection=22, inside_convection=6, settings=[-1, 0, 1], air_density=1.293, air_heat_capacity=718, ext_wall_ext_thick=0.01, ext_wall_ext_heat_capacity=1000, ext_wall_ext_density=1300, ext_wall_int_thick=0.01, ext_wall_int_heat_capacity=837, ext_wall_int_density=801, ext_roof_ext_thick=0.045, ext_roof_ext_heat_capacity=1400, ext_roof_ext_density=860, ext_roof_int_thick=0.015, ext_roof_int_heat_capacity=1860, ext_roof_int_density=630, int_wall_outside_thick=0.01, int_wall_outside_heat_capacity=1000, int_wall_outside_density=800, damper_leak=0.05, epsilon=0.8)\n",
      "Constants(cooler_btu=2000, heater_btu=2500, ext_wall_thick=0.15, int_wall_thick=0.12, ext_wall_therm_cond=0.04, int_wall_therm_cond=0.18, ext_roof_thick=0.12, int_roof_thick=0.12, ext_roof_therm_cond=0.15, int_roof_therm_cond=0.62, outside_convection=22, inside_convection=6, settings=[-1, 0, 1], air_density=1.293, air_heat_capacity=718, ext_wall_ext_thick=0.01, ext_wall_ext_heat_capacity=1000, ext_wall_ext_density=1300, ext_wall_int_thick=0.01, ext_wall_int_heat_capacity=837, ext_wall_int_density=801, ext_roof_ext_thick=0.045, ext_roof_ext_heat_capacity=1400, ext_roof_ext_density=860, ext_roof_int_thick=0.015, ext_roof_int_heat_capacity=1860, ext_roof_int_density=630, int_wall_outside_thick=0.01, int_wall_outside_heat_capacity=1000, int_wall_outside_density=800, damper_leak=0.05, epsilon=0.8)\n",
      "Constants(cooler_btu=2000, heater_btu=2500, ext_wall_thick=0.15, int_wall_thick=0.12, ext_wall_therm_cond=0.04, int_wall_therm_cond=0.18, ext_roof_thick=0.12, int_roof_thick=0.12, ext_roof_therm_cond=0.15, int_roof_therm_cond=0.62, outside_convection=22, inside_convection=6, settings=[-1, 0, 1], air_density=1.293, air_heat_capacity=718, ext_wall_ext_thick=0.01, ext_wall_ext_heat_capacity=1000, ext_wall_ext_density=1300, ext_wall_int_thick=0.01, ext_wall_int_heat_capacity=837, ext_wall_int_density=801, ext_roof_ext_thick=0.045, ext_roof_ext_heat_capacity=1400, ext_roof_ext_density=860, ext_roof_int_thick=0.015, ext_roof_int_heat_capacity=1860, ext_roof_int_density=630, int_wall_outside_thick=0.01, int_wall_outside_heat_capacity=1000, int_wall_outside_density=800, damper_leak=0.05, epsilon=0.8)\n",
      "Constants(cooler_btu=2000, heater_btu=2500, ext_wall_thick=0.15, int_wall_thick=0.12, ext_wall_therm_cond=0.04, int_wall_therm_cond=0.18, ext_roof_thick=0.12, int_roof_thick=0.12, ext_roof_therm_cond=0.15, int_roof_therm_cond=0.62, outside_convection=22, inside_convection=6, settings=[-1, 0, 1], air_density=1.293, air_heat_capacity=718, ext_wall_ext_thick=0.01, ext_wall_ext_heat_capacity=1000, ext_wall_ext_density=1300, ext_wall_int_thick=0.01, ext_wall_int_heat_capacity=837, ext_wall_int_density=801, ext_roof_ext_thick=0.045, ext_roof_ext_heat_capacity=1400, ext_roof_ext_density=860, ext_roof_int_thick=0.015, ext_roof_int_heat_capacity=1860, ext_roof_int_density=630, int_wall_outside_thick=0.01, int_wall_outside_heat_capacity=1000, int_wall_outside_density=800, damper_leak=0.05, epsilon=0.8)\n"
     ]
    },
    {
     "ename": "KeyboardInterrupt",
     "evalue": "",
     "output_type": "error",
     "traceback": [
      "\u001b[0;31m---------------------------------------------------------------------------\u001b[0m",
      "\u001b[0;31mKeyboardInterrupt\u001b[0m                         Traceback (most recent call last)",
      "Cell \u001b[0;32mIn[3], line 3\u001b[0m\n\u001b[1;32m      1\u001b[0m stupid \u001b[38;5;241m=\u001b[39m DumbPolicy(env\u001b[38;5;241m.\u001b[39mobservation_space, env\u001b[38;5;241m.\u001b[39maction_space)\n\u001b[1;32m      2\u001b[0m rng \u001b[38;5;241m=\u001b[39m np\u001b[38;5;241m.\u001b[39mrandom\u001b[38;5;241m.\u001b[39mdefault_rng()\n\u001b[0;32m----> 3\u001b[0m rollouts \u001b[38;5;241m=\u001b[39m \u001b[43mimitation\u001b[49m\u001b[38;5;241;43m.\u001b[39;49m\u001b[43mdata\u001b[49m\u001b[38;5;241;43m.\u001b[39;49m\u001b[43mrollout\u001b[49m\u001b[38;5;241;43m.\u001b[39;49m\u001b[43mrollout\u001b[49m\u001b[43m(\u001b[49m\n\u001b[1;32m      4\u001b[0m \u001b[43m\t\u001b[49m\u001b[43mstupid\u001b[49m\u001b[43m,\u001b[49m\n\u001b[1;32m      5\u001b[0m \u001b[43m\t\u001b[49m\u001b[43mvenv\u001b[49m\u001b[43m,\u001b[49m\n\u001b[1;32m      6\u001b[0m \u001b[43m\t\u001b[49m\u001b[43mimitation\u001b[49m\u001b[38;5;241;43m.\u001b[39;49m\u001b[43mdata\u001b[49m\u001b[38;5;241;43m.\u001b[39;49m\u001b[43mrollout\u001b[49m\u001b[38;5;241;43m.\u001b[39;49m\u001b[43mmake_sample_until\u001b[49m\u001b[43m(\u001b[49m\u001b[43mmin_timesteps\u001b[49m\u001b[38;5;241;43m=\u001b[39;49m\u001b[38;5;28;43;01mNone\u001b[39;49;00m\u001b[43m,\u001b[49m\u001b[43m \u001b[49m\u001b[43mmin_episodes\u001b[49m\u001b[38;5;241;43m=\u001b[39;49m\u001b[38;5;241;43m2000\u001b[39;49m\u001b[43m)\u001b[49m\u001b[43m,\u001b[49m\n\u001b[1;32m      7\u001b[0m \u001b[43m\t\u001b[49m\u001b[43mrng\u001b[49m\u001b[38;5;241;43m=\u001b[39;49m\u001b[43mrng\u001b[49m\u001b[43m,\u001b[49m\n\u001b[1;32m      8\u001b[0m \u001b[43m\t\u001b[49m\u001b[43mverbose\u001b[49m\u001b[38;5;241;43m=\u001b[39;49m\u001b[38;5;28;43;01mTrue\u001b[39;49;00m\n\u001b[1;32m      9\u001b[0m \u001b[43m)\u001b[49m\n\u001b[1;32m     10\u001b[0m transitions \u001b[38;5;241m=\u001b[39m imitation\u001b[38;5;241m.\u001b[39mdata\u001b[38;5;241m.\u001b[39mrollout\u001b[38;5;241m.\u001b[39mflatten_trajectories(rollouts)\n",
      "File \u001b[0;32m~/Desktop/Programs/aithermostat-old/venv/lib/python3.8/site-packages/imitation/data/rollout.py:711\u001b[0m, in \u001b[0;36mrollout\u001b[0;34m(policy, venv, sample_until, rng, unwrap, exclude_infos, verbose, **kwargs)\u001b[0m\n\u001b[1;32m    668\u001b[0m \u001b[38;5;28;01mdef\u001b[39;00m \u001b[38;5;21mrollout\u001b[39m(\n\u001b[1;32m    669\u001b[0m     policy: AnyPolicy,\n\u001b[1;32m    670\u001b[0m     venv: VecEnv,\n\u001b[0;32m   (...)\u001b[0m\n\u001b[1;32m    677\u001b[0m     \u001b[38;5;241m*\u001b[39m\u001b[38;5;241m*\u001b[39mkwargs: Any,\n\u001b[1;32m    678\u001b[0m ) \u001b[38;5;241m-\u001b[39m\u001b[38;5;241m>\u001b[39m Sequence[types\u001b[38;5;241m.\u001b[39mTrajectoryWithRew]:\n\u001b[1;32m    679\u001b[0m \u001b[38;5;250m    \u001b[39m\u001b[38;5;124;03m\"\"\"Generate policy rollouts.\u001b[39;00m\n\u001b[1;32m    680\u001b[0m \n\u001b[1;32m    681\u001b[0m \u001b[38;5;124;03m    This method is a wrapper of generate_trajectories that allows\u001b[39;00m\n\u001b[0;32m   (...)\u001b[0m\n\u001b[1;32m    709\u001b[0m \u001b[38;5;124;03m        should truncate if required.\u001b[39;00m\n\u001b[1;32m    710\u001b[0m \u001b[38;5;124;03m    \"\"\"\u001b[39;00m\n\u001b[0;32m--> 711\u001b[0m     trajs \u001b[38;5;241m=\u001b[39m \u001b[43mgenerate_trajectories\u001b[49m\u001b[43m(\u001b[49m\n\u001b[1;32m    712\u001b[0m \u001b[43m        \u001b[49m\u001b[43mpolicy\u001b[49m\u001b[43m,\u001b[49m\n\u001b[1;32m    713\u001b[0m \u001b[43m        \u001b[49m\u001b[43mvenv\u001b[49m\u001b[43m,\u001b[49m\n\u001b[1;32m    714\u001b[0m \u001b[43m        \u001b[49m\u001b[43msample_until\u001b[49m\u001b[43m,\u001b[49m\n\u001b[1;32m    715\u001b[0m \u001b[43m        \u001b[49m\u001b[43mrng\u001b[49m\u001b[38;5;241;43m=\u001b[39;49m\u001b[43mrng\u001b[49m\u001b[43m,\u001b[49m\n\u001b[1;32m    716\u001b[0m \u001b[43m        \u001b[49m\u001b[38;5;241;43m*\u001b[39;49m\u001b[38;5;241;43m*\u001b[39;49m\u001b[43mkwargs\u001b[49m\u001b[43m,\u001b[49m\n\u001b[1;32m    717\u001b[0m \u001b[43m    \u001b[49m\u001b[43m)\u001b[49m\n\u001b[1;32m    718\u001b[0m     \u001b[38;5;28;01mif\u001b[39;00m unwrap:\n\u001b[1;32m    719\u001b[0m         trajs \u001b[38;5;241m=\u001b[39m [unwrap_traj(traj) \u001b[38;5;28;01mfor\u001b[39;00m traj \u001b[38;5;129;01min\u001b[39;00m trajs]\n",
      "File \u001b[0;32m~/Desktop/Programs/aithermostat-old/venv/lib/python3.8/site-packages/imitation/data/rollout.py:446\u001b[0m, in \u001b[0;36mgenerate_trajectories\u001b[0;34m(policy, venv, sample_until, rng, deterministic_policy)\u001b[0m\n\u001b[1;32m    443\u001b[0m dones \u001b[38;5;241m=\u001b[39m np\u001b[38;5;241m.\u001b[39mzeros(venv\u001b[38;5;241m.\u001b[39mnum_envs, dtype\u001b[38;5;241m=\u001b[39m\u001b[38;5;28mbool\u001b[39m)\n\u001b[1;32m    444\u001b[0m \u001b[38;5;28;01mwhile\u001b[39;00m np\u001b[38;5;241m.\u001b[39many(active):\n\u001b[1;32m    445\u001b[0m     \u001b[38;5;66;03m# policy gets unwrapped observations (eg as dict, not dictobs)\u001b[39;00m\n\u001b[0;32m--> 446\u001b[0m     acts, state \u001b[38;5;241m=\u001b[39m \u001b[43mget_actions\u001b[49m\u001b[43m(\u001b[49m\u001b[43mobs\u001b[49m\u001b[43m,\u001b[49m\u001b[43m \u001b[49m\u001b[43mstate\u001b[49m\u001b[43m,\u001b[49m\u001b[43m \u001b[49m\u001b[43mdones\u001b[49m\u001b[43m)\u001b[49m\n\u001b[1;32m    447\u001b[0m     obs, rews, dones, infos \u001b[38;5;241m=\u001b[39m venv\u001b[38;5;241m.\u001b[39mstep(acts)\n\u001b[1;32m    448\u001b[0m     \u001b[38;5;28;01massert\u001b[39;00m \u001b[38;5;28misinstance\u001b[39m(\n\u001b[1;32m    449\u001b[0m         obs,\n\u001b[1;32m    450\u001b[0m         (np\u001b[38;5;241m.\u001b[39mndarray, \u001b[38;5;28mdict\u001b[39m),\n\u001b[1;32m    451\u001b[0m     ), \u001b[38;5;124m\"\u001b[39m\u001b[38;5;124mTuple observations are not supported.\u001b[39m\u001b[38;5;124m\"\u001b[39m\n",
      "File \u001b[0;32m~/Desktop/Programs/aithermostat-old/venv/lib/python3.8/site-packages/imitation/data/rollout.py:319\u001b[0m, in \u001b[0;36mpolicy_to_callable.<locals>.get_actions\u001b[0;34m(observations, states, episode_starts)\u001b[0m\n\u001b[1;32m    316\u001b[0m \u001b[38;5;28;01massert\u001b[39;00m \u001b[38;5;28misinstance\u001b[39m(policy, (BaseAlgorithm, BasePolicy))\n\u001b[1;32m    317\u001b[0m \u001b[38;5;66;03m# pytype doesn't seem to understand that policy is a BaseAlgorithm\u001b[39;00m\n\u001b[1;32m    318\u001b[0m \u001b[38;5;66;03m# or BasePolicy here, rather than a Callable\u001b[39;00m\n\u001b[0;32m--> 319\u001b[0m (acts, states) \u001b[38;5;241m=\u001b[39m \u001b[43mpolicy\u001b[49m\u001b[38;5;241;43m.\u001b[39;49m\u001b[43mpredict\u001b[49m\u001b[43m(\u001b[49m\u001b[43m  \u001b[49m\u001b[38;5;66;43;03m# pytype: disable=attribute-error\u001b[39;49;00m\n\u001b[1;32m    320\u001b[0m \u001b[43m    \u001b[49m\u001b[43mobservations\u001b[49m\u001b[43m,\u001b[49m\n\u001b[1;32m    321\u001b[0m \u001b[43m    \u001b[49m\u001b[43mstate\u001b[49m\u001b[38;5;241;43m=\u001b[39;49m\u001b[43mstates\u001b[49m\u001b[43m,\u001b[49m\n\u001b[1;32m    322\u001b[0m \u001b[43m    \u001b[49m\u001b[43mepisode_start\u001b[49m\u001b[38;5;241;43m=\u001b[39;49m\u001b[43mepisode_starts\u001b[49m\u001b[43m,\u001b[49m\n\u001b[1;32m    323\u001b[0m \u001b[43m    \u001b[49m\u001b[43mdeterministic\u001b[49m\u001b[38;5;241;43m=\u001b[39;49m\u001b[43mdeterministic_policy\u001b[49m\u001b[43m,\u001b[49m\n\u001b[1;32m    324\u001b[0m \u001b[43m\u001b[49m\u001b[43m)\u001b[49m\n\u001b[1;32m    325\u001b[0m \u001b[38;5;28;01mreturn\u001b[39;00m acts, states\n",
      "File \u001b[0;32m~/Desktop/Programs/aithermostat-old/venv/lib/python3.8/site-packages/stable_baselines3/common/policies.py:368\u001b[0m, in \u001b[0;36mBasePolicy.predict\u001b[0;34m(self, observation, state, episode_start, deterministic)\u001b[0m\n\u001b[1;32m    365\u001b[0m obs_tensor, vectorized_env \u001b[38;5;241m=\u001b[39m \u001b[38;5;28mself\u001b[39m\u001b[38;5;241m.\u001b[39mobs_to_tensor(observation)\n\u001b[1;32m    367\u001b[0m \u001b[38;5;28;01mwith\u001b[39;00m th\u001b[38;5;241m.\u001b[39mno_grad():\n\u001b[0;32m--> 368\u001b[0m     actions \u001b[38;5;241m=\u001b[39m \u001b[38;5;28;43mself\u001b[39;49m\u001b[38;5;241;43m.\u001b[39;49m\u001b[43m_predict\u001b[49m\u001b[43m(\u001b[49m\u001b[43mobs_tensor\u001b[49m\u001b[43m,\u001b[49m\u001b[43m \u001b[49m\u001b[43mdeterministic\u001b[49m\u001b[38;5;241;43m=\u001b[39;49m\u001b[43mdeterministic\u001b[49m\u001b[43m)\u001b[49m\n\u001b[1;32m    369\u001b[0m \u001b[38;5;66;03m# Convert to numpy, and reshape to the original action shape\u001b[39;00m\n\u001b[1;32m    370\u001b[0m actions \u001b[38;5;241m=\u001b[39m actions\u001b[38;5;241m.\u001b[39mcpu()\u001b[38;5;241m.\u001b[39mnumpy()\u001b[38;5;241m.\u001b[39mreshape((\u001b[38;5;241m-\u001b[39m\u001b[38;5;241m1\u001b[39m, \u001b[38;5;241m*\u001b[39m\u001b[38;5;28mself\u001b[39m\u001b[38;5;241m.\u001b[39maction_space\u001b[38;5;241m.\u001b[39mshape))  \u001b[38;5;66;03m# type: ignore[misc]\u001b[39;00m\n",
      "File \u001b[0;32m~/Desktop/Programs/aithermostat-old/venv/lib/python3.8/site-packages/imitation/policies/base.py:42\u001b[0m, in \u001b[0;36mNonTrainablePolicy._predict\u001b[0;34m(self, obs, deterministic)\u001b[0m\n\u001b[1;32m     40\u001b[0m     np_ob_unwrapped \u001b[38;5;241m=\u001b[39m types\u001b[38;5;241m.\u001b[39mmaybe_unwrap_dictobs(np_ob)\n\u001b[1;32m     41\u001b[0m     \u001b[38;5;28;01massert\u001b[39;00m \u001b[38;5;28mself\u001b[39m\u001b[38;5;241m.\u001b[39mobservation_space\u001b[38;5;241m.\u001b[39mcontains(np_ob_unwrapped)\n\u001b[0;32m---> 42\u001b[0m     np_actions\u001b[38;5;241m.\u001b[39mappend(\u001b[38;5;28;43mself\u001b[39;49m\u001b[38;5;241;43m.\u001b[39;49m\u001b[43m_choose_action\u001b[49m\u001b[43m(\u001b[49m\u001b[43mnp_ob_unwrapped\u001b[49m\u001b[43m)\u001b[49m)\n\u001b[1;32m     43\u001b[0m np_actions \u001b[38;5;241m=\u001b[39m np\u001b[38;5;241m.\u001b[39mstack(np_actions, axis\u001b[38;5;241m=\u001b[39m\u001b[38;5;241m0\u001b[39m)\n\u001b[1;32m     44\u001b[0m th_actions \u001b[38;5;241m=\u001b[39m th\u001b[38;5;241m.\u001b[39mas_tensor(np_actions, device\u001b[38;5;241m=\u001b[39m\u001b[38;5;28mself\u001b[39m\u001b[38;5;241m.\u001b[39mdevice)\n",
      "Cell \u001b[0;32mIn[2], line 8\u001b[0m, in \u001b[0;36mDumbPolicy._choose_action\u001b[0;34m(self, obs)\u001b[0m\n\u001b[1;32m      5\u001b[0m room0_temp, room0_setp, room1_temp, room1_setp, outside_temp, prev_setting, _ \u001b[38;5;241m=\u001b[39m obs\n\u001b[1;32m      6\u001b[0m prev_ac_status, prev_dampers \u001b[38;5;241m=\u001b[39m env\u001b[38;5;241m.\u001b[39mactions[\u001b[38;5;28mint\u001b[39m(prev_setting)]\n\u001b[0;32m----> 8\u001b[0m \u001b[38;5;28;01mif\u001b[39;00m \u001b[43mroom0_temp\u001b[49m\u001b[43m \u001b[49m\u001b[38;5;241;43m>\u001b[39;49m\u001b[43m \u001b[49m\u001b[43mroom0_setp\u001b[49m\u001b[43m \u001b[49m\u001b[38;5;241;43m+\u001b[39;49m\u001b[43m \u001b[49m\u001b[43mepsilon\u001b[49m \u001b[38;5;129;01mand\u001b[39;00m room1_temp \u001b[38;5;241m>\u001b[39m room1_setp:\n\u001b[1;32m      9\u001b[0m \tac_status, dampers \u001b[38;5;241m=\u001b[39m (\u001b[38;5;241m-\u001b[39m\u001b[38;5;241m1\u001b[39m, [[\u001b[38;5;28;01mFalse\u001b[39;00m, \u001b[38;5;28;01mFalse\u001b[39;00m]])\n\u001b[1;32m     10\u001b[0m \u001b[38;5;28;01melif\u001b[39;00m room0_temp \u001b[38;5;241m<\u001b[39m room0_setp \u001b[38;5;241m-\u001b[39m epsilon \u001b[38;5;129;01mand\u001b[39;00m room1_temp \u001b[38;5;241m<\u001b[39m room1_setp:\n",
      "\u001b[0;31mKeyboardInterrupt\u001b[0m: "
     ]
    }
   ],
   "source": [
    "stupid = DumbPolicy(env.observation_space, env.action_space)\n",
    "rng = np.random.default_rng()\n",
    "rollouts = imitation.data.rollout.rollout(\n",
    "\tstupid,\n",
    "\tvenv,\n",
    "\timitation.data.rollout.make_sample_until(min_timesteps=None, min_episodes=2000),\n",
    "\trng=rng,\n",
    "\tverbose=True\n",
    ")\n",
    "transitions = imitation.data.rollout.flatten_trajectories(rollouts)"
   ]
  },
  {
   "cell_type": "code",
   "execution_count": 8,
   "metadata": {},
   "outputs": [
    {
     "name": "stdout",
     "output_type": "stream",
     "text": [
      "Reward before training: -38213.69628582746\n"
     ]
    },
    {
     "name": "stderr",
     "output_type": "stream",
     "text": [
      "0batch [00:00, ?batch/s]"
     ]
    },
    {
     "name": "stdout",
     "output_type": "stream",
     "text": [
      "--------------------------------\n",
      "| batch_size        | 32       |\n",
      "| bc/               |          |\n",
      "|    batch          | 0        |\n",
      "|    ent_loss       | -0.00248 |\n",
      "|    entropy        | 2.48     |\n",
      "|    epoch          | 0        |\n",
      "|    l2_loss        | 0        |\n",
      "|    l2_norm        | 78.5     |\n",
      "|    loss           | 2.48     |\n",
      "|    neglogp        | 2.48     |\n",
      "|    prob_true_act  | 0.0834   |\n",
      "|    samples_so_far | 32       |\n",
      "--------------------------------\n"
     ]
    },
    {
     "name": "stderr",
     "output_type": "stream",
     "text": [
      "99973batch [03:56, 363.50batch/s]"
     ]
    },
    {
     "name": "stdout",
     "output_type": "stream",
     "text": [
      "---------------------------------\n",
      "| batch_size        | 32        |\n",
      "| bc/               |           |\n",
      "|    batch          | 100000    |\n",
      "|    ent_loss       | -5.23e-05 |\n",
      "|    entropy        | 0.0523    |\n",
      "|    epoch          | 1         |\n",
      "|    l2_loss        | 0         |\n",
      "|    l2_norm        | 330       |\n",
      "|    loss           | 0.0577    |\n",
      "|    neglogp        | 0.0578    |\n",
      "|    prob_true_act  | 0.962     |\n",
      "|    samples_so_far | 3200032   |\n",
      "---------------------------------\n"
     ]
    },
    {
     "name": "stderr",
     "output_type": "stream",
     "text": [
      "199986batch [07:55, 360.96batch/s]"
     ]
    },
    {
     "name": "stdout",
     "output_type": "stream",
     "text": [
      "---------------------------------\n",
      "| batch_size        | 32        |\n",
      "| bc/               |           |\n",
      "|    batch          | 200000    |\n",
      "|    ent_loss       | -3.97e-05 |\n",
      "|    entropy        | 0.0397    |\n",
      "|    epoch          | 2         |\n",
      "|    l2_loss        | 0         |\n",
      "|    l2_norm        | 424       |\n",
      "|    loss           | 0.14      |\n",
      "|    neglogp        | 0.14      |\n",
      "|    prob_true_act  | 0.962     |\n",
      "|    samples_so_far | 6400032   |\n",
      "---------------------------------\n"
     ]
    },
    {
     "name": "stderr",
     "output_type": "stream",
     "text": [
      "299979batch [12:38, 353.59batch/s]"
     ]
    },
    {
     "name": "stdout",
     "output_type": "stream",
     "text": [
      "---------------------------------\n",
      "| batch_size        | 32        |\n",
      "| bc/               |           |\n",
      "|    batch          | 300000    |\n",
      "|    ent_loss       | -8.26e-05 |\n",
      "|    entropy        | 0.0826    |\n",
      "|    epoch          | 3         |\n",
      "|    l2_loss        | 0         |\n",
      "|    l2_norm        | 503       |\n",
      "|    loss           | 0.108     |\n",
      "|    neglogp        | 0.108     |\n",
      "|    prob_true_act  | 0.94      |\n",
      "|    samples_so_far | 9600032   |\n",
      "---------------------------------\n"
     ]
    },
    {
     "name": "stderr",
     "output_type": "stream",
     "text": [
      "399974batch [17:17, 341.03batch/s]"
     ]
    },
    {
     "name": "stdout",
     "output_type": "stream",
     "text": [
      "---------------------------------\n",
      "| batch_size        | 32        |\n",
      "| bc/               |           |\n",
      "|    batch          | 400000    |\n",
      "|    ent_loss       | -8.63e-05 |\n",
      "|    entropy        | 0.0863    |\n",
      "|    epoch          | 4         |\n",
      "|    l2_loss        | 0         |\n",
      "|    l2_norm        | 576       |\n",
      "|    loss           | 0.0866    |\n",
      "|    neglogp        | 0.0867    |\n",
      "|    prob_true_act  | 0.944     |\n",
      "|    samples_so_far | 12800032  |\n",
      "---------------------------------\n"
     ]
    },
    {
     "name": "stderr",
     "output_type": "stream",
     "text": [
      "499997batch [21:56, 384.46batch/s]"
     ]
    },
    {
     "name": "stdout",
     "output_type": "stream",
     "text": [
      "---------------------------------\n",
      "| batch_size        | 32        |\n",
      "| bc/               |           |\n",
      "|    batch          | 500000    |\n",
      "|    ent_loss       | -8.22e-05 |\n",
      "|    entropy        | 0.0822    |\n",
      "|    epoch          | 5         |\n",
      "|    l2_loss        | 0         |\n",
      "|    l2_norm        | 646       |\n",
      "|    loss           | 0.0449    |\n",
      "|    neglogp        | 0.045     |\n",
      "|    prob_true_act  | 0.968     |\n",
      "|    samples_so_far | 16000032  |\n",
      "---------------------------------\n"
     ]
    },
    {
     "name": "stderr",
     "output_type": "stream",
     "text": [
      "599974batch [26:46, 402.04batch/s]"
     ]
    },
    {
     "name": "stdout",
     "output_type": "stream",
     "text": [
      "---------------------------------\n",
      "| batch_size        | 32        |\n",
      "| bc/               |           |\n",
      "|    batch          | 600000    |\n",
      "|    ent_loss       | -4.94e-05 |\n",
      "|    entropy        | 0.0494    |\n",
      "|    epoch          | 6         |\n",
      "|    l2_loss        | 0         |\n",
      "|    l2_norm        | 724       |\n",
      "|    loss           | 0.0211    |\n",
      "|    neglogp        | 0.0211    |\n",
      "|    prob_true_act  | 0.984     |\n",
      "|    samples_so_far | 19200032  |\n",
      "---------------------------------\n"
     ]
    },
    {
     "name": "stderr",
     "output_type": "stream",
     "text": [
      "699964batch [31:01, 393.09batch/s]"
     ]
    },
    {
     "name": "stdout",
     "output_type": "stream",
     "text": [
      "---------------------------------\n",
      "| batch_size        | 32        |\n",
      "| bc/               |           |\n",
      "|    batch          | 700000    |\n",
      "|    ent_loss       | -5.97e-05 |\n",
      "|    entropy        | 0.0597    |\n",
      "|    epoch          | 7         |\n",
      "|    l2_loss        | 0         |\n",
      "|    l2_norm        | 793       |\n",
      "|    loss           | 0.12      |\n",
      "|    neglogp        | 0.12      |\n",
      "|    prob_true_act  | 0.943     |\n",
      "|    samples_so_far | 22400032  |\n",
      "---------------------------------\n"
     ]
    },
    {
     "name": "stderr",
     "output_type": "stream",
     "text": [
      "799991batch [35:44, 362.05batch/s]"
     ]
    },
    {
     "name": "stdout",
     "output_type": "stream",
     "text": [
      "---------------------------------\n",
      "| batch_size        | 32        |\n",
      "| bc/               |           |\n",
      "|    batch          | 800000    |\n",
      "|    ent_loss       | -4.07e-05 |\n",
      "|    entropy        | 0.0407    |\n",
      "|    epoch          | 8         |\n",
      "|    l2_loss        | 0         |\n",
      "|    l2_norm        | 862       |\n",
      "|    loss           | 0.0464    |\n",
      "|    neglogp        | 0.0465    |\n",
      "|    prob_true_act  | 0.971     |\n",
      "|    samples_so_far | 25600032  |\n",
      "---------------------------------\n"
     ]
    },
    {
     "name": "stderr",
     "output_type": "stream",
     "text": [
      "900000batch [40:27, 370.78batch/s]\n"
     ]
    },
    {
     "name": "stdout",
     "output_type": "stream",
     "text": [
      "Reward after training: -20780.57926607579\n"
     ]
    }
   ],
   "source": [
    "from imitation.algorithms import bc\n",
    "bc_trainer = bc.BC(\n",
    "\tobservation_space=env.observation_space,\n",
    "\taction_space=env.action_space,\n",
    "\tdemonstrations=transitions,\n",
    "\trng=rng,\n",
    ")\n",
    "\n",
    "reward_before_training, _ = stable_baselines3.common.evaluation.evaluate_policy(bc_trainer.policy, env, 10)\n",
    "print(f\"Reward before training: {reward_before_training}\")\n",
    "\n",
    "bc_trainer.train(n_epochs=10, log_interval=100000)\n",
    "reward_after_training, _ = stable_baselines3.common.evaluation.evaluate_policy(bc_trainer.policy, env, 10)\n",
    "print(f\"Reward after training: {reward_after_training}\")"
   ]
  },
  {
   "cell_type": "code",
   "execution_count": 13,
   "metadata": {},
   "outputs": [
    {
     "data": {
      "text/plain": [
       "imitation.policies.base.FeedForward32Policy"
      ]
     },
     "execution_count": 13,
     "metadata": {},
     "output_type": "execute_result"
    }
   ],
   "source": [
    "type(bc_trainer.policy)"
   ]
  }
 ],
 "metadata": {
  "kernelspec": {
   "display_name": "venv",
   "language": "python",
   "name": "python3"
  },
  "language_info": {
   "codemirror_mode": {
    "name": "ipython",
    "version": 3
   },
   "file_extension": ".py",
   "mimetype": "text/x-python",
   "name": "python",
   "nbconvert_exporter": "python",
   "pygments_lexer": "ipython3",
   "version": "3.8.19"
  }
 },
 "nbformat": 4,
 "nbformat_minor": 2
}
